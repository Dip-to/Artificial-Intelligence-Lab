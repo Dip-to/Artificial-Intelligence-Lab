{
 "cells": [
  {
   "cell_type": "code",
   "execution_count": null,
   "id": "a27530f1",
   "metadata": {},
   "outputs": [],
   "source": [
    "import networkx as nx\n",
    "import osmnx as ox\n",
    "import matplotlib.pyplot as plt\n",
    "import random\n",
    "import heapq\n",
    "import timeit\n",
    "from memory_profiler import profile,memory_usage\n",
    "import numpy as np"
   ]
  },
  {
   "cell_type": "code",
   "execution_count": null,
   "id": "255392a3",
   "metadata": {},
   "outputs": [],
   "source": []
  },
  {
   "cell_type": "code",
   "execution_count": null,
   "id": "5b6b148c",
   "metadata": {},
   "outputs": [],
   "source": []
  },
  {
   "cell_type": "code",
   "execution_count": null,
   "id": "4702c479",
   "metadata": {},
   "outputs": [],
   "source": [
    "# Load the New York City graph from OSM\n",
    "place_name = \"New York City, New York, USA\"\n",
    "G = ox.graph_from_place(place_name, network_type=\"drive\")\n",
    "\n",
    "# Choose random start and end nodes\n",
    "start_node = list(G.nodes())[0]\n",
    "end_node = list(G.nodes())[45593]\n",
    "#45593\n",
    "def euclidian_distance(node,goal):\n",
    "    x1, y1 = G.nodes[node]['x'], G.nodes[node]['y']\n",
    "    x2, y2 = G.nodes[goal]['x'], G.nodes[goal]['y']\n",
    "    return ((x1 - x2) ** 2 + (y1 - y2) ** 2) ** 0.5\n",
    "def heuristic(node, goal,w):\n",
    "    std_dist=euclidian_distance(node,goal)\n",
    "    risk=euclidian_distance(start_node, goal)\n",
    "    return std_dist+risk*w"
   ]
  },
  {
   "cell_type": "code",
   "execution_count": null,
   "id": "39cd4929",
   "metadata": {},
   "outputs": [],
   "source": [
    "#Optimal path finder ()\n",
    "@profile\n",
    "def optimal_path_search(graph, start, goal, heuristic):\n",
    "    return nx.shortest_path(G, source=start, target=goal, weight='length')\n",
    "# Implement BEST FIRST SEARCH algorithm\n",
    "@profile\n",
    "def best_first_search(graph, start, goal, heuristic):\n",
    "    frontier = [(start, 0)]\n",
    "    visited = set()\n",
    "    paths = {start: [start]}  # Keep track of the path to each node\n",
    "\n",
    "    while frontier:\n",
    "        current_node, _ = frontier.pop(0)\n",
    "\n",
    "        if current_node == goal:\n",
    "            return paths[current_node]\n",
    "\n",
    "        visited.add(current_node)\n",
    "\n",
    "        for neighbor in graph.neighbors(current_node):\n",
    "            if neighbor not in visited:\n",
    "                cost = heuristic(neighbor, goal,1)\n",
    "                frontier.append((neighbor, cost))\n",
    "                paths[neighbor] = paths[current_node] + [neighbor]\n",
    "\n",
    "        frontier = sorted(frontier, key=lambda x: x[1])\n",
    "        \n",
    "        \n",
    "# Implement A* algorithm\n",
    "@profile\n",
    "def a_star_search(graph, start, goal, heuristic,w):\n",
    "    frontier = [(0, start)]  # Priority queue with tuple (priority, node)\n",
    "    visited = set()\n",
    "    g_values = {start: 0}  # Cost to reach each node\n",
    "    paths = {start: [start]}  # Keep track of the path to each node\n",
    "\n",
    "    while frontier:\n",
    "        _, current_node = heapq.heappop(frontier)\n",
    "\n",
    "        if current_node == goal:\n",
    "            return paths[current_node]\n",
    "\n",
    "        visited.add(current_node)\n",
    "\n",
    "        for neighbor in graph.neighbors(current_node):\n",
    "            if neighbor not in visited:\n",
    "                cost_to_neighbor = g_values[current_node] + graph[current_node][neighbor].get('weight', 1)\n",
    "                if neighbor not in g_values or cost_to_neighbor < g_values[neighbor]:\n",
    "                    g_values[neighbor] = cost_to_neighbor\n",
    "                    priority = cost_to_neighbor + heuristic(neighbor, goal,1)\n",
    "                    heapq.heappush(frontier, (priority, neighbor))\n",
    "                    paths[neighbor] = paths[current_node] + [neighbor]\n",
    "\n",
    "    return None  # If no path is found\n",
    "\n"
   ]
  },
  {
   "cell_type": "code",
   "execution_count": null,
   "id": "c30b2940",
   "metadata": {},
   "outputs": [],
   "source": [
    "# Run the algorithm\n",
    "elapsed_times = []\n",
    "\n",
    "start_time = timeit.default_timer()\n",
    "optimal_memory, optimal_path = memory_usage((optimal_path_search, (G, start_node, end_node, heuristic)), retval=True)\n",
    "elapsed_times.append(timeit.default_timer() - start_time)\n",
    "optimal_times = np.linspace(0.1, 0.1 * len(optimal_memory), len(optimal_memory))\n",
    "\n",
    "\n",
    "start_time = timeit.default_timer()\n",
    "bfs_memory, bfs_path = memory_usage((best_first_search, (G, start_node, end_node, heuristic)), retval=True)\n",
    "elapsed_times.append(timeit.default_timer() - start_time)\n",
    "bfs_times = np.linspace(0.1, 0.1 * len(bfs_memory), len(bfs_memory))\n",
    "\n",
    "\n",
    "start_time = timeit.default_timer()\n",
    "w=1\n",
    "a_star_memory,a_star_path = memory_usage((a_star_search, (G, start_node, end_node, heuristic,w)),retval=True,)\n",
    "elapsed_times.append(timeit.default_timer() - start_time)\n",
    "a_star_times = np.linspace(0.1, 0.1 * len(a_star_memory), len(a_star_memory))\n",
    "\n",
    "start_time = timeit.default_timer()\n",
    "w=10\n",
    "weighted_a_star_memory,weighted_a_star_path = memory_usage((a_star_search, (G, start_node, end_node, heuristic,w)),retval=True,)\n",
    "elapsed_times.append(timeit.default_timer() - start_time)\n",
    "weighted_a_star_times = np.linspace(0.1, 0.1 * len(weighted_a_star_memory), len(weighted_a_star_memory))\n",
    "\n",
    "# Print time measurements\n",
    "print(\"Time taken by Optimal Path (NetworkX): {:.6f} seconds\".format(elapsed_times[0]))\n",
    "print(\"Time taken by Best First Search: {:.6f} seconds\".format(elapsed_times[1]))\n",
    "print(\"Time taken by A* Search: {:.6f} seconds\".format(elapsed_times[2]))\n",
    "print(\"Time taken by Weighted A* Search: {:.6f} seconds\".format(elapsed_times[3]))\n"
   ]
  },
  {
   "cell_type": "markdown",
   "id": "e35fc3c4",
   "metadata": {},
   "source": [
    "# Time and Memory Comparison"
   ]
  },
  {
   "cell_type": "code",
   "execution_count": null,
   "id": "554d9a55",
   "metadata": {},
   "outputs": [],
   "source": [
    "# Plot time comparison\n",
    "plt.figure(figsize=(12,5))\n",
    "algorithms = ['Optimal Path \\n(NetworkX)', 'Best First\\nSearch' ,'A* Search', 'Weighted A*']\n",
    "plt.subplot(1,2,1)\n",
    "plt.bar(algorithms, elapsed_times, color=['r', 'y', 'b','g'])\n",
    "plt.xlabel('Algorithms')\n",
    "plt.ylabel('Time (seconds)')\n",
    "plt.title('Time Comparison of Algorithms')\n",
    "\n",
    "\n",
    "# Plot memory comparison graph\n",
    "plt.subplot(1,2,2)\n",
    "plt.plot(bfs_times,bfs_memory, label='Best First Search', color='y')\n",
    "plt.plot(a_star_times,a_star_memory, label='A* Search', color='b')\n",
    "plt.plot(weighted_a_star_times,weighted_a_star_memory, label='Weighted A* Search', color='g')\n",
    "plt.plot(optimal_times,optimal_memory, label='Optimal Search', color='r')\n",
    "plt.xlabel('Time (seconds)')\n",
    "plt.ylabel('Memory Usage (MB)')\n",
    "plt.title('Memory Comparison of Algorithms')\n",
    "plt.legend()\n",
    "plt.grid()\n",
    "plt.show()"
   ]
  },
  {
   "cell_type": "markdown",
   "id": "72c790e6",
   "metadata": {},
   "source": [
    "# Search Space"
   ]
  },
  {
   "cell_type": "code",
   "execution_count": null,
   "id": "784e6f12",
   "metadata": {},
   "outputs": [],
   "source": [
    "routes = [optimal_path, bfs_path,a_star_path,weighted_a_star_path]\n",
    "rc = ['r', 'y','b','g']\n",
    "# Visualize the graph\n",
    "fig, ax = ox.plot_graph_routes(G, routes, route_colors=rc, route_linewidth=8, node_size=0)\n",
    "\n",
    "plt.show()"
   ]
  },
  {
   "cell_type": "code",
   "execution_count": null,
   "id": "5bc97c3c",
   "metadata": {},
   "outputs": [],
   "source": [
    "# Run the algorithm\n",
    "bfs_path = best_first_search(G, start_node, end_node, heuristic)\n",
    "optimal_path = nx.shortest_path(G, source=start_node, target=end_node, weight='length')\n",
    "a_star_path = a_star_search(G, start_node, end_node, heuristic,1)\n",
    "\n",
    "routes = [optimal_path, bfs_path,a_star_path]\n",
    "rc = ['r', 'y','b']\n",
    "# Visualize the graph\n",
    "fig, ax = ox.plot_graph_routes(G, routes, route_colors=rc, route_linewidth=3, node_size=0)\n",
    "plt.show()"
   ]
  }
 ],
 "metadata": {
  "kernelspec": {
   "display_name": "Python 3 (ipykernel)",
   "language": "python",
   "name": "python3"
  },
  "language_info": {
   "codemirror_mode": {
    "name": "ipython",
    "version": 3
   },
   "file_extension": ".py",
   "mimetype": "text/x-python",
   "name": "python",
   "nbconvert_exporter": "python",
   "pygments_lexer": "ipython3",
   "version": "3.11.5"
  }
 },
 "nbformat": 4,
 "nbformat_minor": 5
}
